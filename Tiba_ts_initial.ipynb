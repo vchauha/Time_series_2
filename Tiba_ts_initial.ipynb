{
 "cells": [
  {
   "cell_type": "code",
   "execution_count": null,
   "metadata": {},
   "outputs": [],
   "source": [
    "import pyodbc\n",
    "import pandas as pd\n",
    "import dask.dataframe as dd\n",
    "import math\n",
    "import numpy as np\n",
    "import datetime\n",
    "import pandas.io.sql as sql\n",
    "import datetime as d\n",
    "import matplotlib.pyplot as plt\n",
    "from statsmodels.graphics.tsaplots import plot_acf\n",
    "from sklearn.metrics import mean_squared_error\n",
    "from statsmodels.tsa.ar_model import AR\n",
    "from statsmodels.tsa.stattools import adfuller\n",
    "from pandas import Series\n",
    "from sklearn.metrics import mean_squared_error\n",
    "from statsmodels.tsa.arima_model import ARIMA\n",
    "from statsmodels.tsa.statespace.sarimax import SARIMAX\n",
    "from math import sqrt"
   ]
  },
  {
   "cell_type": "code",
   "execution_count": null,
   "metadata": {},
   "outputs": [],
   "source": [
    "cnxn= pyodbc.connect(\"Driver={SQL Server};\"\n",
    "                    \"Server=xxxxxx;\"\n",
    "                    \"Database=xxxxxxx;\"\n",
    "                    \"Trusted_Connection=yes;\"\n",
    "                    'uid=xxxxxxxx;pwd=xxxxxxxxx')\n",
    "\n",
    "data = pd.read_sql('SELECT * FROM INFORMATION_SCHEMA.TABLES', cnxn)"
   ]
  },
  {
   "cell_type": "code",
   "execution_count": null,
   "metadata": {},
   "outputs": [],
   "source": [
    "data_tiba= pd.read_sql('SELECT * FROM xxxxxx', cnxn)"
   ]
  },
  {
   "cell_type": "code",
   "execution_count": null,
   "metadata": {},
   "outputs": [],
   "source": [
    "tiba_transient = data_tiba[['DocDateTime','ParkDBID', 'CreditDBID', 'RecordIndex', 'LAZLocationId' ]] "
   ]
  },
  {
   "cell_type": "code",
   "execution_count": null,
   "metadata": {},
   "outputs": [],
   "source": [
    "tiba_transient['Date'] = [d.date() for d in tiba_transient['DocDateTime']]\n",
    "tiba_transient['Time'] = [d.time() for d in tiba_transient['DocDateTime']]"
   ]
  },
  {
   "cell_type": "code",
   "execution_count": null,
   "metadata": {},
   "outputs": [],
   "source": [
    "tiba_transient['Date']= pd.to_datetime(tiba_transient['Date'])"
   ]
  },
  {
   "cell_type": "code",
   "execution_count": null,
   "metadata": {},
   "outputs": [],
   "source": [
    "tiba_transient= tiba_transient[tiba_transient['Date']>'2017-01-01']"
   ]
  },
  {
   "cell_type": "code",
   "execution_count": null,
   "metadata": {},
   "outputs": [],
   "source": [
    "tiba_transient.reset_index(inplace=True, drop=True)"
   ]
  },
  {
   "cell_type": "code",
   "execution_count": null,
   "metadata": {},
   "outputs": [],
   "source": [
    "tiba_transient['LAZLocationId'].unique()"
   ]
  },
  {
   "cell_type": "code",
   "execution_count": null,
   "metadata": {},
   "outputs": [],
   "source": [
    "tiba_690500=[]\n",
    "tiba_690501=[]\n",
    "tiba_690502=[]\n",
    "tiba_550179=[]\n",
    "tiba_550195=[]\n",
    "tiba_600434=[]\n",
    "tiba_600144=[]\n",
    "tiba_600117=[]\n",
    "remain=[]\n",
    "for i in range(0, len(tiba_transient)):\n",
    "    if tiba_transient['LAZLocationId'][i] == 690500:\n",
    "        tiba_690500.append(tiba_transient.iloc[i])\n",
    "    elif tiba_transient['LAZLocationId'][i] == 690501:\n",
    "        tiba_690501.append(tiba_transient.iloc[i])\n",
    "    elif tiba_transient['LAZLocationId'][i] == 690502:\n",
    "        tiba_690502.append(tiba_transient.iloc[i])\n",
    "    elif tiba_transient['LAZLocationId'][i] == 550179:\n",
    "        tiba_550179.append(tiba_transient.iloc[i])\n",
    "    elif tiba_transient['LAZLocationId'][i] == 550195:\n",
    "        tiba_550195.append(tiba_transient.iloc[i])\n",
    "    elif tiba_transient['LAZLocationId'][i] == 600434:\n",
    "        tiba_600434.append(tiba_transient.iloc[i])\n",
    "    elif tiba_transient['LAZLocationId'][i] == 600144:\n",
    "        tiba_600144.append(tiba_transient.iloc[i])\n",
    "    elif tiba_transient['LAZLocationId'][i] == 600117:\n",
    "        tiba_600117.append(tiba_transient.iloc[i])\n",
    "    else:\n",
    "        remain.append(tiba_transient.iloc[i])\n"
   ]
  },
  {
   "cell_type": "code",
   "execution_count": null,
   "metadata": {},
   "outputs": [],
   "source": [
    "tiba_550179= pd.DataFrame(tiba_550179)\n",
    "tiba_550179.drop_duplicates()\n",
    "tiba_550179.reset_index(drop=True, inplace=True)\n",
    "tiba_550195= pd.DataFrame(tiba_550195)\n",
    "tiba_550195.drop_duplicates()\n",
    "tiba_550195.reset_index(drop=True, inplace=True)\n",
    "tiba_600117= pd.DataFrame(tiba_600117)\n",
    "tiba_600117.drop_duplicates()\n",
    "tiba_600117.reset_index(drop=True, inplace=True)\n",
    "tiba_600144= pd.DataFrame(tiba_600144)\n",
    "tiba_600144.drop_duplicates()\n",
    "tiba_600144.reset_index(drop=True, inplace=True)\n",
    "tiba_600434= pd.DataFrame(tiba_600434)\n",
    "tiba_600434.drop_duplicates()\n",
    "tiba_600434.reset_index(drop=True, inplace=True)\n",
    "tiba_690500= pd.DataFrame(tiba_690500)\n",
    "tiba_690500.drop_duplicates()\n",
    "tiba_690500.reset_index(drop=True, inplace=True)\n",
    "tiba_690501= pd.DataFrame(tiba_690501)\n",
    "tiba_690501.drop_duplicates()\n",
    "tiba_690501.reset_index(drop=True, inplace=True)\n",
    "tiba_690502= pd.DataFrame(tiba_690502)\n",
    "tiba_690502.drop_duplicates()\n",
    "tiba_690502.reset_index(drop=True, inplace=True)"
   ]
  },
  {
   "cell_type": "code",
   "execution_count": null,
   "metadata": {},
   "outputs": [],
   "source": [
    "tiba_550179.head()"
   ]
  },
  {
   "cell_type": "code",
   "execution_count": null,
   "metadata": {},
   "outputs": [],
   "source": [
    "len(tiba_550179['DocDateTime'].unique())"
   ]
  },
  {
   "cell_type": "code",
   "execution_count": null,
   "metadata": {},
   "outputs": [],
   "source": [
    "tiba_550179['Date']= pd.to_datetime(tiba_550179['Date'])\n",
    "tiba_550195['Date']= pd.to_datetime(tiba_550195['Date'])\n",
    "tiba_600117['Date']= pd.to_datetime(tiba_600117['Date'])\n",
    "tiba_600144['Date']= pd.to_datetime(tiba_600144['Date'])\n",
    "tiba_600434['Date']= pd.to_datetime(tiba_600434['Date'])\n",
    "tiba_690500['Date']= pd.to_datetime(tiba_690500['Date'])\n",
    "tiba_690501['Date']= pd.to_datetime(tiba_690501['Date'])\n",
    "tiba_690502['Date']= pd.to_datetime(tiba_690502['Date'])"
   ]
  },
  {
   "cell_type": "code",
   "execution_count": null,
   "metadata": {},
   "outputs": [],
   "source": [
    "tiba_550179= tiba_550179.set_index('Date')\n",
    "tiba_550195= tiba_550195.set_index('Date')\n",
    "tiba_600117= tiba_600117.set_index('Date')\n",
    "tiba_600144= tiba_600144.set_index('Date')\n",
    "tiba_600434= tiba_600434.set_index('Date')\n",
    "tiba_690500= tiba_690500.set_index('Date')\n",
    "tiba_690501= tiba_690501.set_index('Date')\n",
    "tiba_690502= tiba_690502.set_index('Date')"
   ]
  },
  {
   "cell_type": "code",
   "execution_count": null,
   "metadata": {},
   "outputs": [],
   "source": [
    "tiba_550179_count= tiba_550179.groupby(tiba_550179.index)['LAZLocationId'].count()\n",
    "tiba_550195_count= tiba_550195.groupby(tiba_550195.index)['LAZLocationId'].count()\n",
    "tiba_600117_count= tiba_600117.groupby(tiba_600117.index)['LAZLocationId'].count()\n",
    "tiba_600144_count= tiba_600144.groupby(tiba_600144.index)['LAZLocationId'].count()\n",
    "tiba_600434_count= tiba_600434.groupby(tiba_600434.index)['LAZLocationId'].count()\n",
    "tiba_690500_count= tiba_690500.groupby(tiba_690500.index)['LAZLocationId'].count()\n",
    "tiba_690501_count= tiba_690501.groupby(tiba_690501.index)['LAZLocationId'].count()\n",
    "tiba_690502_count= tiba_690502.groupby(tiba_690502.index)['LAZLocationId'].count()"
   ]
  },
  {
   "cell_type": "code",
   "execution_count": null,
   "metadata": {},
   "outputs": [],
   "source": [
    "data_locations= [tiba_550179_count, tiba_550195_count, tiba_600117_count, tiba_600144_count, tiba_600434_count, tiba_690500_count, tiba_690501_count, tiba_690502_count]"
   ]
  },
  {
   "cell_type": "code",
   "execution_count": null,
   "metadata": {},
   "outputs": [],
   "source": [
    "location_names= [\"550179\", \"550195\", \"600117\", \"600144\", \"600434\", \"690500\", \"690501\", \"690502\"]"
   ]
  },
  {
   "cell_type": "code",
   "execution_count": null,
   "metadata": {},
   "outputs": [],
   "source": [
    "# tiba_550179_count.index.name = [\"tiba_550179\"]"
   ]
  },
  {
   "cell_type": "code",
   "execution_count": null,
   "metadata": {},
   "outputs": [],
   "source": [
    "for i in data_locations:\n",
    "    plt.figure(figsize=(7,5))\n",
    "    i.plot()"
   ]
  },
  {
   "cell_type": "code",
   "execution_count": null,
   "metadata": {},
   "outputs": [],
   "source": [
    "def adf(ts):\n",
    "    rolmean= pd.rolling_mean(ts, window=12)\n",
    "    rolstd= pd.rolling_std(ts, window= 12)\n",
    "    plt.figure(figsize=(10,7))\n",
    "    orig= plt.plot(ts, color= 'red', label= 'Original')\n",
    "    mean= plt.plot(rolmean, color= 'blue', label= 'Rolmean')\n",
    "    std= plt.plot(rolstd, color= 'black', label= 'Rolstd')\n",
    "    plt.show()\n",
    "    \n",
    "    adftest= adfuller(ts, autolag= 'AIC')\n",
    "    adfoutput= pd.Series(adftest[0:4], index=['Test Statistic','p-value','# of Lags Used','Number of Observations Used'])\n",
    "    for key, value in adftest[4].items():\n",
    "        adfoutput['Critical Value (%s)' %key] = value\n",
    "    return adfoutput"
   ]
  },
  {
   "cell_type": "code",
   "execution_count": null,
   "metadata": {},
   "outputs": [],
   "source": [
    "adf(tiba_550179_count)"
   ]
  },
  {
   "cell_type": "code",
   "execution_count": null,
   "metadata": {},
   "outputs": [],
   "source": [
    "adf(tiba_550195_count)"
   ]
  },
  {
   "cell_type": "code",
   "execution_count": null,
   "metadata": {},
   "outputs": [],
   "source": [
    "adf(tiba_600117_count)"
   ]
  },
  {
   "cell_type": "code",
   "execution_count": null,
   "metadata": {},
   "outputs": [],
   "source": [
    "adf(tiba_600144_count)"
   ]
  },
  {
   "cell_type": "code",
   "execution_count": null,
   "metadata": {},
   "outputs": [],
   "source": [
    "adf(tiba_600434_count)"
   ]
  },
  {
   "cell_type": "code",
   "execution_count": null,
   "metadata": {},
   "outputs": [],
   "source": [
    "adf(tiba_690500_count)"
   ]
  },
  {
   "cell_type": "code",
   "execution_count": null,
   "metadata": {},
   "outputs": [],
   "source": [
    "adf(tiba_690501_count)"
   ]
  },
  {
   "cell_type": "code",
   "execution_count": null,
   "metadata": {},
   "outputs": [],
   "source": [
    "adf(tiba_690502_count)"
   ]
  },
  {
   "cell_type": "code",
   "execution_count": null,
   "metadata": {},
   "outputs": [],
   "source": [
    "def difference(dataset, interval=1):\n",
    "    diff = list()\n",
    "    for i in range(interval, len(dataset)):\n",
    "        value = dataset[i] - dataset[i - interval]\n",
    "        diff.append(value)\n",
    "    return diff\n",
    "\n",
    "def inverse_difference(history, yhat, interval=1):\n",
    "    return yhat + history[-interval]\n"
   ]
  },
  {
   "cell_type": "code",
   "execution_count": null,
   "metadata": {},
   "outputs": [],
   "source": [
    "def evaluate_arima_model(X, arima_order):\n",
    "    # prepare training dataset\n",
    "    X = X.astype('float32')\n",
    "    train_size = int(len(X) * 0.50)\n",
    "    train, test = X[0:train_size], X[train_size:]\n",
    "    history = [x for x in train]\n",
    "    # make predictions\n",
    "    predictions = list()\n",
    "    for t in range(len(test)):\n",
    "    # difference data\n",
    "        months_in_year = 12\n",
    "        diff = difference(history, months_in_year)\n",
    "        model = ARIMA(diff, order=arima_order)\n",
    "        model_fit = model.fit(trend='nc', disp=0, method='css')\n",
    "        yhat = model_fit.forecast()[0]\n",
    "        yhat = inverse_difference(history, yhat, months_in_year)\n",
    "        predictions.append(yhat)\n",
    "        history.append(test[t])\n",
    "    # calculate out of sample error\n",
    "    mse = mean_squared_error(test, predictions)\n",
    "    rmse = sqrt(mse)\n",
    "    return rmse"
   ]
  },
  {
   "cell_type": "code",
   "execution_count": null,
   "metadata": {},
   "outputs": [],
   "source": [
    "def evaluate_models(dataset, p_values, d_values, q_values):\n",
    "    dataset = dataset.astype('float32')\n",
    "    best_score, best_cfg = float(\"inf\"), None\n",
    "    for p in p_values:\n",
    "        for d in d_values:\n",
    "            for q in q_values:\n",
    "                order = (p,d,q)\n",
    "                try:\n",
    "                    mse = evaluate_arima_model(dataset, order)\n",
    "                    if mse < best_score:\n",
    "                        best_score, best_cfg = mse, order\n",
    "                    print('ARIMA%s RMSE=%.3f' % (order,mse))\n",
    "                except:\n",
    "                    continue\n",
    "    print('Best ARIMA%s RMSE=%.3f' % (best_cfg, best_score))\n",
    " "
   ]
  },
  {
   "cell_type": "code",
   "execution_count": null,
   "metadata": {},
   "outputs": [],
   "source": [
    "def evaluate_arima_model_stationary(X, arima_order):\n",
    "    # prepare training dataset\n",
    "    X = X.astype('float32')\n",
    "    train_size = int(len(X) * 0.50)\n",
    "    train, test = X[0:train_size], X[train_size:]\n",
    "    history = [x for x in train]\n",
    "    # make predictions\n",
    "    predictions = list()\n",
    "    for t in range(len(test)):\n",
    "    # difference data\n",
    "        months_in_year = 12\n",
    "        #diff = difference(history, months_in_year)\n",
    "        model = ARIMA(history, order=arima_order)\n",
    "        model_fit = model.fit(trend='nc', disp=0, method='css')\n",
    "        yhat = model_fit.forecast()[0]\n",
    "        #yhat = inverse_difference(history, yhat, months_in_year)\n",
    "        predictions.append(yhat)\n",
    "        history.append(test[t])\n",
    "    # calculate out of sample error\n",
    "    mse = mean_squared_error(test, predictions)\n",
    "    rmse = sqrt(mse)\n",
    "    return rmse"
   ]
  },
  {
   "cell_type": "code",
   "execution_count": null,
   "metadata": {},
   "outputs": [],
   "source": [
    "def evaluate_models_stationary(dataset, p_values, d_values, q_values):\n",
    "    dataset = dataset.astype('float32')\n",
    "    best_score, best_cfg = float(\"inf\"), None\n",
    "    for p in p_values:\n",
    "        for d in d_values:\n",
    "            for q in q_values:\n",
    "                order = (p,d,q)\n",
    "                try:\n",
    "                    mse = evaluate_arima_model_stationary(dataset, order)\n",
    "                    if mse < best_score:\n",
    "                        best_score, best_cfg = mse, order\n",
    "                    print('ARIMA%s RMSE=%.3f' % (order,mse))\n",
    "                except:\n",
    "                    continue\n",
    "    print('Best ARIMA%s RMSE=%.3f' % (best_cfg, best_score))\n",
    " "
   ]
  },
  {
   "cell_type": "code",
   "execution_count": null,
   "metadata": {},
   "outputs": [],
   "source": [
    "p_values= range(0, 10)\n",
    "d_values= range(0, 3)\n",
    "q_values= range(0, 10)"
   ]
  },
  {
   "cell_type": "code",
   "execution_count": null,
   "metadata": {},
   "outputs": [],
   "source": [
    "# evaluate_models_stationary(tiba_600117_count, p_values,d_values, q_values)"
   ]
  },
  {
   "cell_type": "markdown",
   "metadata": {},
   "source": [
    "# 550179"
   ]
  },
  {
   "cell_type": "code",
   "execution_count": null,
   "metadata": {},
   "outputs": [],
   "source": [
    "# prepare training dataset\n",
    "X=tiba_550179_count\n",
    "X = X.astype('float32')\n",
    "train_size = int(len(X) * 0.50)\n",
    "train_179, test_179 = X[0:train_size], X[train_size:]\n",
    "history_179 = [x for x in train_179]\n",
    "    # make predictions\n",
    "predictions_179 = list()\n",
    "for t in range(len(test_179)):\n",
    "    # difference data\n",
    "    #months_in_year = 12\n",
    "    #diff = difference(history, months_in_year)\n",
    "    model = ARIMA(history_179, order=(3,0,3))\n",
    "    model_fit = model.fit(trend='nc', disp=0, method='css')\n",
    "    yhat = model_fit.forecast()[0]\n",
    "    #yhat = inverse_difference(history, yhat, months_in_year)\n",
    "    predictions_179.append(yhat)\n",
    "    history_179.append(test_179[t])\n",
    "    # calculate out of sample error\n",
    "mse = mean_squared_error(test_179, predictions_179)\n",
    "rmse = sqrt(mse)\n",
    "print(rmse)"
   ]
  },
  {
   "cell_type": "code",
   "execution_count": null,
   "metadata": {},
   "outputs": [],
   "source": [
    "# predictions_l_179=[]\n",
    "# for i in predictions_179:\n",
    "#     predictions_l_179.append(i[0])"
   ]
  },
  {
   "cell_type": "code",
   "execution_count": null,
   "metadata": {},
   "outputs": [],
   "source": [
    "residuals_179 = [test_179[i]-predictions_179[i] for i in range(len(test_179))]\n",
    "residuals_179 = pd.DataFrame(residuals_179)\n",
    "print(residuals_179.describe())\n",
    "# plot\n",
    "plt.figure()\n",
    "plt.subplot(211)\n",
    "residuals_179.hist(ax=plt.gca())\n",
    "plt.subplot(212)\n",
    "residuals_179.plot(kind='kde', ax=plt.gca())\n",
    "plt.show()"
   ]
  },
  {
   "cell_type": "code",
   "execution_count": null,
   "metadata": {},
   "outputs": [],
   "source": [
    "df_179 = pd.DataFrame({'Predictions':predictions_179, 'Expected': test_179})\n",
    "forecast_21_179= pd.DataFrame(abs(model_fit.forecast(21)[0]), columns=['Predictions'])\n",
    "forecast_21_179['Expected']= np.nan\n",
    "datelist = pd.date_range(tiba_550179_count.index[-1], periods=22).tolist()[1:]\n",
    "forecast_21_179.index = datelist\n",
    "tiba_550179_final= pd.concat([df_179, forecast_21_179])\n",
    "tiba_550179_final['Location'] = '550179'\n",
    "tiba_550179_final.to_csv('L:/Predictions/Tiba/tiba_550179_final.csv')"
   ]
  },
  {
   "cell_type": "code",
   "execution_count": null,
   "metadata": {},
   "outputs": [],
   "source": [
    "plt.figure(figsize=(12,5))\n",
    "plt.xlabel('Count of Occupancy')\n",
    "\n",
    "ax1 = tiba_550179_final['Predictions'].plot(color='blue', grid=True, label='Predictions')\n",
    "ax2 = tiba_550179_final['Expected'].plot(color='red', grid=True, secondary_y=True, label='Expected')\n",
    "\n",
    "h1, l1 = ax1.get_legend_handles_labels()\n",
    "h2, l2 = ax2.get_legend_handles_labels()\n",
    "\n",
    "\n",
    "plt.legend(h1+h2, l1+l2, loc=2)\n",
    "plt.show()"
   ]
  },
  {
   "cell_type": "markdown",
   "metadata": {},
   "source": [
    "# 550195"
   ]
  },
  {
   "cell_type": "code",
   "execution_count": null,
   "metadata": {},
   "outputs": [],
   "source": [
    "# prepare training dataset\n",
    "X=tiba_550195_count\n",
    "X = X.astype('float32')\n",
    "train_size = int(len(X) * 0.50)\n",
    "train_195, test_195 = X[0:train_size], X[train_size:]\n",
    "history_195 = [x for x in train_195]\n",
    "    # make predictions\n",
    "predictions_195 = list()\n",
    "for t in range(len(test_195)):\n",
    "    # difference data\n",
    "    #months_in_year = 12\n",
    "    #diff = difference(history, months_in_year)\n",
    "    model = ARIMA(history_195, order=(3,1,1))\n",
    "    model_fit = model.fit(trend='nc', disp=0, method='css')\n",
    "    yhat = model_fit.forecast()[0]\n",
    "    #yhat = inverse_difference(history, yhat, months_in_year)\n",
    "    predictions_195.append(yhat)\n",
    "    history_195.append(test_195[t])\n",
    "    # calculate out of sample error\n",
    "mse = mean_squared_error(test_195, predictions_195)\n",
    "rmse = sqrt(mse)\n",
    "print(rmse)"
   ]
  },
  {
   "cell_type": "code",
   "execution_count": null,
   "metadata": {},
   "outputs": [],
   "source": [
    "residuals_195 = [test_195[i]-predictions_195[i] for i in range(len(test_195))]\n",
    "residuals_195 = pd.DataFrame(residuals_195)\n",
    "print(residuals_195.describe())\n",
    "# plot\n",
    "plt.figure()\n",
    "plt.subplot(211)\n",
    "residuals_195.hist(ax=plt.gca())\n",
    "plt.subplot(212)\n",
    "residuals_195.plot(kind='kde', ax=plt.gca())\n",
    "plt.show()"
   ]
  },
  {
   "cell_type": "code",
   "execution_count": null,
   "metadata": {},
   "outputs": [],
   "source": [
    "predictions_l_195=[]\n",
    "for i in predictions_195:\n",
    "    predictions_l_195.append(i[0])"
   ]
  },
  {
   "cell_type": "code",
   "execution_count": null,
   "metadata": {},
   "outputs": [],
   "source": [
    "df_195 = pd.DataFrame({'Predictions':predictions_l_195, 'Expected': test_195})\n",
    "forecast_21_195= pd.DataFrame(abs(model_fit.forecast(21)[0]), columns=['Predictions'])\n",
    "forecast_21_195['Expected']= np.nan\n",
    "datelist = pd.date_range(tiba_550195_count.index[-1], periods=22).tolist()[1:]\n",
    "forecast_21_195.index = datelist\n",
    "tiba_550195_final= pd.concat([df_195, forecast_21_195])\n",
    "tiba_550195_final['Location'] = '550195'\n",
    "tiba_550195_final.to_csv('L:/Predictions/Tiba/tiba_550195_final.csv')"
   ]
  },
  {
   "cell_type": "code",
   "execution_count": null,
   "metadata": {},
   "outputs": [],
   "source": [
    "plt.figure(figsize=(12,5))\n",
    "plt.xlabel('Count of Occupancy')\n",
    "\n",
    "ax1 = tiba_550195_final['Predictions'].plot(color='blue', grid=True, label='Predictions')\n",
    "ax2 = tiba_550195_final['Expected'].plot(color='red', grid=True, secondary_y=True, label='Expected')\n",
    "\n",
    "h1, l1 = ax1.get_legend_handles_labels()\n",
    "h2, l2 = ax2.get_legend_handles_labels()\n",
    "\n",
    "\n",
    "plt.legend(h1+h2, l1+l2, loc=2)\n",
    "plt.show()"
   ]
  },
  {
   "cell_type": "markdown",
   "metadata": {},
   "source": [
    "# 600117"
   ]
  },
  {
   "cell_type": "code",
   "execution_count": null,
   "metadata": {},
   "outputs": [],
   "source": [
    "# prepare training dataset\n",
    "X=tiba_600117_count\n",
    "X = X.astype('float32')\n",
    "train_size = int(len(X) * 0.50)\n",
    "train_117, test_117 = X[0:train_size], X[train_size:]\n",
    "history_117 = [x for x in train_117]\n",
    "    # make predictions\n",
    "predictions_117 = list()\n",
    "for t in range(len(test_117)):\n",
    "    # difference data\n",
    "    months_in_year = 12\n",
    "    diff = difference(history_117, months_in_year)\n",
    "    model = ARIMA(history_117, order=(5,1,0))\n",
    "    model_fit = model.fit(trend='nc', disp=0, method='css')\n",
    "    yhat = model_fit.forecast()[0]\n",
    "    yhat = inverse_difference(history_117, yhat, months_in_year)\n",
    "    predictions_117.append(yhat)\n",
    "    history_117.append(test_117[t])\n",
    "    # calculate out of sample error\n",
    "mse = mean_squared_error(test_117, predictions_117)\n",
    "rmse = sqrt(mse)\n",
    "print(rmse)"
   ]
  },
  {
   "cell_type": "code",
   "execution_count": null,
   "metadata": {},
   "outputs": [],
   "source": [
    "residuals_117 = [test_117[i]-predictions_117[i] for i in range(len(test_117))]\n",
    "residuals_117 = pd.DataFrame(residuals_117)\n",
    "print(residuals_117.describe())\n",
    "# plot\n",
    "plt.figure()\n",
    "plt.subplot(211)\n",
    "residuals_117.hist(ax=plt.gca())\n",
    "plt.subplot(212)\n",
    "residuals_117.plot(kind='kde', ax=plt.gca())\n",
    "plt.show()"
   ]
  },
  {
   "cell_type": "code",
   "execution_count": null,
   "metadata": {},
   "outputs": [],
   "source": [
    "bias_117= residuals_117.describe()[0][1]"
   ]
  },
  {
   "cell_type": "code",
   "execution_count": null,
   "metadata": {},
   "outputs": [],
   "source": [
    "# prepare training dataset\n",
    "X=tiba_600117_count\n",
    "X = X.astype('float32')\n",
    "train_size = int(len(X) * 0.50)\n",
    "train_117, test_117 = X[0:train_size], X[train_size:]\n",
    "history_117 = [x for x in train_117]\n",
    "    # make predictions\n",
    "predictions_117 = list()\n",
    "for t in range(len(test_117)):\n",
    "    # difference data\n",
    "    months_in_year = 12\n",
    "    diff = difference(history_117, months_in_year)\n",
    "    model = ARIMA(history_117, order=(5,1,0))\n",
    "    model_fit = model.fit(trend='nc', disp=0, method='css')\n",
    "    yhat = model_fit.forecast()[0] + bias_117\n",
    "    yhat = inverse_difference(history_117, yhat, months_in_year)\n",
    "    predictions_117.append(yhat)\n",
    "    history_117.append(test_117[t])\n",
    "    # calculate out of sample error\n",
    "mse = mean_squared_error(test_117, predictions_117)\n",
    "rmse = sqrt(mse)\n",
    "print(rmse)"
   ]
  },
  {
   "cell_type": "code",
   "execution_count": null,
   "metadata": {},
   "outputs": [],
   "source": [
    "predictions_l_117=[]\n",
    "for i in predictions_117:\n",
    "    predictions_l_117.append(i[0])"
   ]
  },
  {
   "cell_type": "code",
   "execution_count": null,
   "metadata": {},
   "outputs": [],
   "source": [
    "df_117 = pd.DataFrame({'Predictions':predictions_l_117, 'Expected': test_117})\n",
    "forecast_21_117= pd.DataFrame(abs(model_fit.forecast(21)[0]), columns=['Predictions'])\n",
    "forecast_21_117['Expected']= np.nan\n",
    "datelist = pd.date_range(tiba_600117_count.index[-1], periods=22).tolist()[1:]\n",
    "forecast_21_117.index = datelist\n",
    "tiba_600117_final= pd.concat([df_117, forecast_21_117])\n",
    "tiba_600117_final['Location'] = '600117'\n",
    "tiba_600117_final.to_csv('L:/Predictions/Tiba/tiba_600117_final.csv')"
   ]
  },
  {
   "cell_type": "code",
   "execution_count": null,
   "metadata": {},
   "outputs": [],
   "source": [
    "plt.figure(figsize=(12,5))\n",
    "plt.xlabel('Count of Occupancy')\n",
    "\n",
    "ax1 = tiba_600117_final['Predictions'].plot(color='blue', grid=True, label='Predictions')\n",
    "ax2 = tiba_600117_final['Expected'].plot(color='red', grid=True, secondary_y=True, label='Expected')\n",
    "\n",
    "h1, l1 = ax1.get_legend_handles_labels()\n",
    "h2, l2 = ax2.get_legend_handles_labels()\n",
    "\n",
    "\n",
    "plt.legend(h1+h2, l1+l2, loc=2)\n",
    "plt.show()"
   ]
  },
  {
   "cell_type": "markdown",
   "metadata": {},
   "source": [
    "# 600144"
   ]
  },
  {
   "cell_type": "code",
   "execution_count": null,
   "metadata": {},
   "outputs": [],
   "source": [
    "evaluate_models_stationary(tiba_600144_count, p_values,d_values, q_values)"
   ]
  },
  {
   "cell_type": "code",
   "execution_count": null,
   "metadata": {},
   "outputs": [],
   "source": [
    "# prepare training dataset\n",
    "X=tiba_600144_count\n",
    "X = X.astype('float32')\n",
    "train_size = int(len(X) * 0.50)\n",
    "train_144, test_144 = X[0:train_size], X[train_size:]\n",
    "history_144 = [x for x in train_144]\n",
    "    # make predictions\n",
    "predictions_144 = list()\n",
    "for t in range(len(test_144)):\n",
    "    # difference data\n",
    "    months_in_year = 12\n",
    "    #diff = difference(history_117, months_in_year)\n",
    "    model = ARIMA(history_144, order=(8,1,0))\n",
    "    model_fit = model.fit(trend='nc', disp=0, method='css')\n",
    "    yhat = model_fit.forecast()[0]\n",
    "    #yhat = inverse_difference(history_117, yhat, months_in_year)\n",
    "    predictions_144.append(yhat)\n",
    "    history_144.append(test_144[t])\n",
    "    # calculate out of sample error\n",
    "mse = mean_squared_error(test_144, predictions_144)\n",
    "rmse = sqrt(mse)\n",
    "print(rmse)"
   ]
  },
  {
   "cell_type": "code",
   "execution_count": null,
   "metadata": {},
   "outputs": [],
   "source": [
    "residuals_144 = [test_144[i]-predictions_144[i] for i in range(len(test_144))]\n",
    "residuals_144 = pd.DataFrame(residuals_144)\n",
    "print(residuals_144.describe())\n",
    "# plot\n",
    "plt.figure()\n",
    "plt.subplot(211)\n",
    "residuals_144.hist(ax=plt.gca())\n",
    "plt.subplot(212)\n",
    "residuals_144.plot(kind='kde', ax=plt.gca())\n",
    "plt.show()"
   ]
  },
  {
   "cell_type": "code",
   "execution_count": null,
   "metadata": {},
   "outputs": [],
   "source": [
    "bias_144= residuals_144.describe()[0][1]"
   ]
  },
  {
   "cell_type": "code",
   "execution_count": null,
   "metadata": {},
   "outputs": [],
   "source": [
    "# # prepare training dataset\n",
    "# X=tiba_600144_count\n",
    "# X = X.astype('float32')\n",
    "# train_size = int(len(X) * 0.50)\n",
    "# train_144, test_144 = X[0:train_size], X[train_size:]\n",
    "# history_144 = [x for x in train_144]\n",
    "#     # make predictions\n",
    "# predictions_144 = list()\n",
    "# for t in range(len(test_144)):\n",
    "#     # difference data\n",
    "#     months_in_year = 12\n",
    "#     diff = difference(history_117, months_in_year)\n",
    "#     model = ARIMA(history_144, order=(8,1,0))\n",
    "#     model_fit = model.fit(trend='nc', disp=0, method='css')\n",
    "#     yhat = model_fit.forecast()[0] + bias_144\n",
    "#     yhat = inverse_difference(history_117, yhat, months_in_year)\n",
    "#     predictions_144.append(yhat)\n",
    "#     history_144.append(test_144[t])\n",
    "#     # calculate out of sample error\n",
    "# mse = mean_squared_error(test_144, predictions_144)\n",
    "# rmse = sqrt(mse)\n",
    "# print(rmse)"
   ]
  },
  {
   "cell_type": "code",
   "execution_count": null,
   "metadata": {},
   "outputs": [],
   "source": [
    "predictions_l_144=[]\n",
    "for i in predictions_144:\n",
    "    predictions_l_144.append(i[0])"
   ]
  },
  {
   "cell_type": "code",
   "execution_count": null,
   "metadata": {},
   "outputs": [],
   "source": [
    "df_144 = pd.DataFrame({'Predictions':predictions_l_144, 'Expected': test_144})\n",
    "forecast_21_144= pd.DataFrame(abs(model_fit.forecast(21)[0]), columns=['Predictions'])\n",
    "forecast_21_144['Expected']= np.nan\n",
    "datelist = pd.date_range(tiba_600144_count.index[-1], periods=22).tolist()[1:]\n",
    "forecast_21_144.index = datelist\n",
    "tiba_600144_final= pd.concat([df_144, forecast_21_144])\n",
    "tiba_600144_final['Location'] = '600144'\n",
    "tiba_600144_final.to_csv('L:/Predictions/Tiba/tiba_600144_final.csv')"
   ]
  },
  {
   "cell_type": "code",
   "execution_count": null,
   "metadata": {},
   "outputs": [],
   "source": [
    "plt.figure(figsize=(12,5))\n",
    "plt.xlabel('Count of Occupancy')\n",
    "\n",
    "ax1 = tiba_600144_final['Predictions'].plot(color='blue', grid=True, label='Predictions')\n",
    "ax2 = tiba_600144_final['Expected'].plot(color='red', grid=True, secondary_y=True, label='Expected')\n",
    "\n",
    "h1, l1 = ax1.get_legend_handles_labels()\n",
    "h2, l2 = ax2.get_legend_handles_labels()\n",
    "\n",
    "\n",
    "plt.legend(h1+h2, l1+l2, loc=2)\n",
    "plt.show()"
   ]
  },
  {
   "cell_type": "markdown",
   "metadata": {},
   "source": [
    "# 600434"
   ]
  },
  {
   "cell_type": "code",
   "execution_count": null,
   "metadata": {},
   "outputs": [],
   "source": [
    "evaluate_models_stationary(tiba_600434_count, p_values,d_values, q_values)"
   ]
  },
  {
   "cell_type": "code",
   "execution_count": null,
   "metadata": {},
   "outputs": [],
   "source": [
    "# prepare training dataset\n",
    "X=tiba_600434_count\n",
    "X = X.astype('float32')\n",
    "train_size = int(len(X) * 0.50)\n",
    "train_434, test_434 = X[0:train_size], X[train_size:]\n",
    "history_434 = [x for x in train_434]\n",
    "    # make predictions\n",
    "predictions_434 = list()\n",
    "for t in range(len(test_434)):\n",
    "    # difference data\n",
    "    months_in_year = 12\n",
    "    #diff = difference(history_117, months_in_year)\n",
    "    model = ARIMA(history_434, order=((6,1,1)))\n",
    "    model_fit = model.fit(trend='nc', disp=0, method='css')\n",
    "    yhat = model_fit.forecast()[0]\n",
    "    #yhat = inverse_difference(history_117, yhat, months_in_year)\n",
    "    predictions_434.append(yhat)\n",
    "    history_434.append(test_434[t])\n",
    "    # calculate out of sample error\n",
    "mse = mean_squared_error(test_434, predictions_434)\n",
    "rmse = sqrt(mse)\n",
    "print(rmse)"
   ]
  },
  {
   "cell_type": "code",
   "execution_count": null,
   "metadata": {},
   "outputs": [],
   "source": [
    "residuals_434 = [test_434[i]-predictions_434[i] for i in range(len(test_434))]\n",
    "residuals_434 = pd.DataFrame(residuals_434)\n",
    "print(residuals_434.describe())\n",
    "# plot\n",
    "plt.figure()\n",
    "plt.subplot(211)\n",
    "residuals_434.hist(ax=plt.gca())\n",
    "plt.subplot(212)\n",
    "residuals_434.plot(kind='kde', ax=plt.gca())\n",
    "plt.show()"
   ]
  },
  {
   "cell_type": "code",
   "execution_count": null,
   "metadata": {},
   "outputs": [],
   "source": [
    "predictions_l_434=[]\n",
    "for i in predictions_434:\n",
    "    predictions_l_434.append(i[0])"
   ]
  },
  {
   "cell_type": "code",
   "execution_count": null,
   "metadata": {},
   "outputs": [],
   "source": [
    "df_434 = pd.DataFrame({'Predictions':predictions_l_434, 'Expected': test_434})\n",
    "forecast_21_434= pd.DataFrame(abs(model_fit.forecast(21)[0]), columns=['Predictions'])\n",
    "forecast_21_434['Expected']= np.nan\n",
    "datelist = pd.date_range(tiba_600434_count.index[-1], periods=22).tolist()[1:]\n",
    "forecast_21_434.index = datelist\n",
    "tiba_600434_final= pd.concat([df_434, forecast_21_434])\n",
    "tiba_600434_final['Location'] = '600434'\n",
    "tiba_600434_final.to_csv('L:/Predictions/Tiba/tiba_600434_final.csv')"
   ]
  },
  {
   "cell_type": "code",
   "execution_count": null,
   "metadata": {},
   "outputs": [],
   "source": [
    "plt.figure(figsize=(12,5))\n",
    "plt.xlabel('Count of Occupancy')\n",
    "ax1 = tiba_600434_final['Predictions'].plot(color='blue', grid=True, label='Predictions')\n",
    "ax2 = tiba_600434_final['Expected'].plot(color='red', grid=True, secondary_y=True, label='Expected')\n",
    "h1, l1 = ax1.get_legend_handles_labels()\n",
    "h2, l2 = ax2.get_legend_handles_labels()\n",
    "plt.legend(h1+h2, l1+l2, loc=2)\n",
    "plt.show()"
   ]
  },
  {
   "cell_type": "markdown",
   "metadata": {},
   "source": [
    "# 690500"
   ]
  },
  {
   "cell_type": "code",
   "execution_count": null,
   "metadata": {},
   "outputs": [],
   "source": [
    "# evaluate_models_stationary(tiba_690500_count, p_values,d_values, q_values)"
   ]
  },
  {
   "cell_type": "code",
   "execution_count": null,
   "metadata": {},
   "outputs": [],
   "source": [
    "# train_size_102 = int(len(tiba_690500_count) * 0.70)\n",
    "# train102, test102 = tiba_690500_count[0:train_size_103], tiba_690500_count[train_size_103:]\n",
    "# import math\n",
    "# from math import sqrt\n",
    "# history = [x for x in train102]\n",
    "# predictions = list()\n",
    "# for i in range(len(test102)):\n",
    "#     # predict\n",
    "#     yhat = history[-1]\n",
    "#     predictions.append(yhat)\n",
    "#     # observation\n",
    "#     obs = test102[i]\n",
    "#     history.append(obs)\n",
    "#     print('>Predicted=%.3f, Expected=%3.f' % (yhat, obs))\n",
    "# # report performance\n",
    "# mse = mean_squared_error(test102, predictions)\n",
    "# rmse = sqrt(mse)\n",
    "# print('RMSE: %.3f' % rmse)"
   ]
  },
  {
   "cell_type": "code",
   "execution_count": null,
   "metadata": {},
   "outputs": [],
   "source": [
    "# prepare training dataset\n",
    "X=tiba_690500_count\n",
    "X = X.astype('float32')\n",
    "train_size = int(len(X) * 0.50)\n",
    "train_500, test_500 = X[0:train_size], X[train_size:]\n",
    "history_500 = [x for x in train_500]\n",
    "    # make predictions\n",
    "predictions_500 = list()\n",
    "for t in range(len(test_500)):\n",
    "    # difference data\n",
    "    months_in_year = 12\n",
    "    #diff = difference(history_117, months_in_year)\n",
    "    model = ARIMA(history_500, order=(7,1,5))\n",
    "    model_fit = model.fit(trend='nc', disp=0, method='css')\n",
    "    yhat = model_fit.forecast()[0]\n",
    "    #yhat = inverse_difference(history_117, yhat, months_in_year)\n",
    "    predictions_500.append(yhat)\n",
    "    history_500.append(test_500[t])\n",
    "    # calculate out of sample error\n",
    "mse = mean_squared_error(test_500, predictions_500)\n",
    "rmse = sqrt(mse)\n",
    "print(rmse)"
   ]
  },
  {
   "cell_type": "code",
   "execution_count": null,
   "metadata": {},
   "outputs": [],
   "source": [
    "residuals_500 = [test_500[i]-predictions_500[i] for i in range(len(test_500))]\n",
    "residuals_500 = pd.DataFrame(residuals_500)\n",
    "print(residuals_500.describe())\n",
    "# plot\n",
    "plt.figure()\n",
    "plt.subplot(211)\n",
    "residuals_500.hist(ax=plt.gca())\n",
    "plt.subplot(212)\n",
    "residuals_500.plot(kind='kde', ax=plt.gca())\n",
    "plt.show()"
   ]
  },
  {
   "cell_type": "code",
   "execution_count": null,
   "metadata": {},
   "outputs": [],
   "source": [
    "predictions_l_500=[]\n",
    "for i in predictions_500:\n",
    "    predictions_l_500.append(i[0])"
   ]
  },
  {
   "cell_type": "code",
   "execution_count": null,
   "metadata": {},
   "outputs": [],
   "source": [
    "df_500 = pd.DataFrame({'Predictions':predictions_l_500, 'Expected': test_500})\n",
    "forecast_21_500= pd.DataFrame(abs(model_fit.forecast(21)[0]), columns=['Predictions'])\n",
    "forecast_21_500['Expected']= np.nan\n",
    "datelist = pd.date_range(tiba_690500_count.index[-1], periods=22).tolist()[1:]\n",
    "forecast_21_500.index = datelist\n",
    "tiba_690500_final= pd.concat([df_500, forecast_21_500])\n",
    "tiba_690500_final['Location'] = '690500'\n",
    "tiba_690500_final.to_csv('L:/Predictions/Tiba/tiba_690500_final.csv')"
   ]
  },
  {
   "cell_type": "code",
   "execution_count": null,
   "metadata": {},
   "outputs": [],
   "source": [
    "plt.figure(figsize=(12,5))\n",
    "plt.xlabel('Count of Occupancy')\n",
    "ax1 = tiba_690500_final['Predictions'].plot(color='blue', grid=True, label='Predictions')\n",
    "ax2 = tiba_690500_final['Expected'].plot(color='red', grid=True, secondary_y=True, label='Expected')\n",
    "h1, l1 = ax1.get_legend_handles_labels()\n",
    "h2, l2 = ax2.get_legend_handles_labels()\n",
    "plt.legend(h1+h2, l1+l2, loc=2)\n",
    "plt.show()"
   ]
  },
  {
   "cell_type": "markdown",
   "metadata": {},
   "source": [
    "# 690501"
   ]
  },
  {
   "cell_type": "code",
   "execution_count": null,
   "metadata": {},
   "outputs": [],
   "source": [
    "# evaluate_models_stationary(tiba_690501_count, p_values,d_values, q_values)"
   ]
  },
  {
   "cell_type": "code",
   "execution_count": null,
   "metadata": {},
   "outputs": [],
   "source": [
    "# prepare training dataset\n",
    "X=tiba_690501_count\n",
    "X = X.astype('float32')\n",
    "train_size = int(len(X) * 0.50)\n",
    "train_501, test_501 = X[0:train_size], X[train_size:]\n",
    "history_501 = [x for x in train_501]\n",
    "    # make predictions\n",
    "predictions_501 = list()\n",
    "for t in range(len(test_501)):\n",
    "    # difference data\n",
    "    #months_in_year = 12\n",
    "    #diff = difference(history_117, months_in_year)\n",
    "    model = ARIMA(history_501, order=(9,1,2))\n",
    "    model_fit = model.fit(trend='nc', disp=0, method='css')\n",
    "    yhat = model_fit.forecast()[0]\n",
    "    #yhat = inverse_difference(history_117, yhat, months_in_year)\n",
    "    predictions_501.append(yhat)\n",
    "    history_501.append(test_501[t])\n",
    "    # calculate out of sample error\n",
    "mse = mean_squared_error(test_501, predictions_501)\n",
    "rmse = sqrt(mse)\n",
    "print(rmse)"
   ]
  },
  {
   "cell_type": "code",
   "execution_count": null,
   "metadata": {},
   "outputs": [],
   "source": [
    "residuals_501 = [test_501[i]-predictions_501[i] for i in range(len(test_501))]\n",
    "residuals_501 = pd.DataFrame(residuals_501)\n",
    "print(residuals_501.describe())\n",
    "# plot\n",
    "plt.figure()\n",
    "plt.subplot(211)\n",
    "residuals_501.hist(ax=plt.gca())\n",
    "plt.subplot(212)\n",
    "residuals_501.plot(kind='kde', ax=plt.gca())\n",
    "plt.show()"
   ]
  },
  {
   "cell_type": "code",
   "execution_count": null,
   "metadata": {},
   "outputs": [],
   "source": [
    "predictions_l_501=[]\n",
    "for i in predictions_501:\n",
    "    predictions_l_501.append(i[0])"
   ]
  },
  {
   "cell_type": "code",
   "execution_count": null,
   "metadata": {},
   "outputs": [],
   "source": [
    "df_501 = pd.DataFrame({'Predictions':predictions_l_501, 'Expected': test_501})\n",
    "forecast_21_501= pd.DataFrame(abs(model_fit.forecast(21)[0]), columns=['Predictions'])\n",
    "forecast_21_501['Expected']= np.nan\n",
    "datelist = pd.date_range(tiba_690501_count.index[-1], periods=22).tolist()[1:]\n",
    "forecast_21_501.index = datelist\n",
    "tiba_690501_final= pd.concat([df_501, forecast_21_501])\n",
    "tiba_690501_final['Location'] = '690501'\n",
    "tiba_690501_final.to_csv('L:/Predictions/Tiba/tiba_690501_final.csv')"
   ]
  },
  {
   "cell_type": "code",
   "execution_count": null,
   "metadata": {},
   "outputs": [],
   "source": [
    "plt.figure(figsize=(12,5))\n",
    "plt.xlabel('Count of Occupancy')\n",
    "ax1 = tiba_690501_final['Predictions'].plot(color='blue', grid=True, label='Predictions')\n",
    "ax2 = tiba_690501_final['Expected'].plot(color='red', grid=True, secondary_y=True, label='Expected')\n",
    "h1, l1 = ax1.get_legend_handles_labels()\n",
    "h2, l2 = ax2.get_legend_handles_labels()\n",
    "plt.legend(h1+h2, l1+l2, loc=2)\n",
    "plt.show()"
   ]
  },
  {
   "cell_type": "markdown",
   "metadata": {},
   "source": [
    "# 690502\n"
   ]
  },
  {
   "cell_type": "code",
   "execution_count": null,
   "metadata": {},
   "outputs": [],
   "source": [
    "# evaluate_models(tiba_690502_count, p_values,d_values, q_values)"
   ]
  },
  {
   "cell_type": "code",
   "execution_count": null,
   "metadata": {},
   "outputs": [],
   "source": [
    "# prepare training dataset\n",
    "X=tiba_690502_count\n",
    "X = X.astype('float32')\n",
    "train_size = int(len(X) * 0.50)\n",
    "train_502, test_502 = X[0:train_size], X[train_size:]\n",
    "history_502 = [x for x in train_502]\n",
    "    # make predictions\n",
    "predictions_502 = list()\n",
    "for t in range(len(test_502)):\n",
    "    # difference data\n",
    "    #months_in_year = 12\n",
    "    #diff = difference(history_117, months_in_year)\n",
    "    model = ARIMA(history_502, order=(9,1,5))\n",
    "    model_fit = model.fit(trend='nc', disp=0, method='css')\n",
    "    yhat = model_fit.forecast()[0]\n",
    "    #yhat = inverse_difference(history_117, yhat, months_in_year)\n",
    "    predictions_502.append(yhat)\n",
    "    history_502.append(test_502[t])\n",
    "    # calculate out of sample error\n",
    "mse = mean_squared_error(test_502, predictions_502)\n",
    "rmse = sqrt(mse)\n",
    "print(rmse)"
   ]
  },
  {
   "cell_type": "code",
   "execution_count": null,
   "metadata": {},
   "outputs": [],
   "source": [
    "predictions_l_502=[]\n",
    "for i in predictions_502:\n",
    "    predictions_l_502.append(i[0])"
   ]
  },
  {
   "cell_type": "code",
   "execution_count": null,
   "metadata": {},
   "outputs": [],
   "source": [
    "residuals_502 = [test_502[i]-predictions_l_502[i] for i in range(len(test_502))]\n",
    "residuals_502 = pd.DataFrame(residuals_502)\n",
    "print(residuals_502.describe())\n",
    "# plot\n",
    "plt.figure()\n",
    "plt.subplot(211)\n",
    "residuals_502.hist(ax=plt.gca())\n",
    "plt.subplot(212)\n",
    "residuals_502.plot(kind='kde', ax=plt.gca())\n",
    "plt.show()"
   ]
  },
  {
   "cell_type": "code",
   "execution_count": null,
   "metadata": {},
   "outputs": [],
   "source": [
    "df_502 = pd.DataFrame({'Predictions':predictions_l_502, 'Expected': test_502})\n",
    "forecast_21_502= pd.DataFrame(abs(model_fit.forecast(21)[0]), columns=['Predictions'])\n",
    "forecast_21_502['Expected']= np.nan\n",
    "datelist = pd.date_range(tiba_690502_count.index[-1], periods=22).tolist()[1:]\n",
    "forecast_21_502.index = datelist\n",
    "tiba_690502_final= pd.concat([df_502, forecast_21_502])\n",
    "tiba_690502_final['Location'] = '690501'\n",
    "tiba_690502_final.to_csv('L:/Predictions/Tiba/tiba_690502_final.csv')"
   ]
  },
  {
   "cell_type": "code",
   "execution_count": null,
   "metadata": {},
   "outputs": [],
   "source": [
    "plt.figure(figsize=(12,5))\n",
    "plt.xlabel('Count of Occupancy')\n",
    "ax1 = tiba_690502_final['Predictions'].plot(color='blue', grid=True, label='Predictions')\n",
    "ax2 = tiba_690502_final['Expected'].plot(color='red', grid=True, secondary_y=True, label='Expected')\n",
    "h1, l1 = ax1.get_legend_handles_labels()\n",
    "h2, l2 = ax2.get_legend_handles_labels()\n",
    "plt.legend(h1+h2, l1+l2, loc=2)\n",
    "plt.show()"
   ]
  }
 ],
 "metadata": {
  "kernelspec": {
   "display_name": "Python 3",
   "language": "python",
   "name": "python3"
  },
  "language_info": {
   "codemirror_mode": {
    "name": "ipython",
    "version": 3
   },
   "file_extension": ".py",
   "mimetype": "text/x-python",
   "name": "python",
   "nbconvert_exporter": "python",
   "pygments_lexer": "ipython3",
   "version": "3.6.4"
  }
 },
 "nbformat": 4,
 "nbformat_minor": 2
}
